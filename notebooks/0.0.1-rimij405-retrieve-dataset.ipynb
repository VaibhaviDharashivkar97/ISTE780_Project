{
 "cells": [
  {
   "cell_type": "markdown",
   "metadata": {},
   "source": [
    "# 0.0.1 - Retrieve Dataset\n",
    "\n",
    "## Overview\n",
    "\n",
    "This notebook demonstrates how to download and extract the Kaggle dataset using the Kaggle API python package and the `doit` task automation tool.\n",
    "\n",
    "### Actions\n",
    "\n",
    "This notebook executes tasks using the `doit` task automation tool in order to:\n",
    "\n",
    "- Downloads the Kaggle dataset using your Kaggle API credentials (download_dataset.py).\n",
    "- Extracts the appropriate `.csv` file from the `.zip` source (unpack_dataset.py).\n",
    "\n",
    "### Dependencies\n",
    "\n",
    "Users should have installed the dependencies listed in `environment.yaml` or `requirements.txt` using the appropriate tool.\n",
    "\n",
    "Users should also have their Kaggle credentials appropriately set using one of two options:\n",
    "\n",
    "- A valid `kaggle.json` file in their home configuration folder (`~/.kaggle/kaggle.json`) or,\n",
    "- Appropriately set `KAGGLE_USERNAME` and `KAGGLE_KEY` environment variables in a `.env` file that is excluded from version control.\n",
    "\n",
    "### Targets\n",
    "\n",
    "**Targets**: This notebook outputs two files:\n",
    "\n",
    "- `data/raw/walmart-product-data-2019.zip`\n",
    "- `data/raw/marketing_sample_for_walmart_com-ecommerce__20191201_20191231__30k_data.csv`."
   ]
  },
  {
   "cell_type": "markdown",
   "metadata": {},
   "source": [
    "## Setup\n",
    "\n",
    "The following cell changes into the root project directory in order to execute command line tasks."
   ]
  },
  {
   "cell_type": "code",
   "execution_count": 1,
   "metadata": {},
   "outputs": [],
   "source": [
    "# Import libraries.\n",
    "import os, sys\n",
    "from pathlib import Path"
   ]
  },
  {
   "cell_type": "code",
   "execution_count": 2,
   "metadata": {},
   "outputs": [],
   "source": [
    "# Get the project directory.\n",
    "PROJECT_DIR = Path(os.getcwd()).resolve().parents[0]"
   ]
  },
  {
   "cell_type": "code",
   "execution_count": 3,
   "metadata": {},
   "outputs": [
    {
     "name": "stdout",
     "output_type": "stream",
     "text": [
      "C:\\Users\\effen\\OneDrive\\Documents\\RIT\\ISTE 780\\Projects\\price-clf\n"
     ]
    }
   ],
   "source": [
    "%cd {PROJECT_DIR}"
   ]
  },
  {
   "cell_type": "code",
   "execution_count": 4,
   "metadata": {},
   "outputs": [
    {
     "name": "stdout",
     "output_type": "stream",
     "text": [
      "Obtaining file:///C:/Users/effen/OneDrive/Documents/RIT/ISTE%20780/Projects/price-clf (from -r requirements.txt (line 2))\n",
      "Requirement already satisfied: tqdm in c:\\users\\effen\\mambaforge\\envs\\clf\\lib\\site-packages (from -r requirements.txt (line 5)) (4.62.3)\n",
      "Requirement already satisfied: kaggle in c:\\users\\effen\\mambaforge\\envs\\clf\\lib\\site-packages (from -r requirements.txt (line 6)) (1.5.12)\n",
      "Requirement already satisfied: click in c:\\users\\effen\\mambaforge\\envs\\clf\\lib\\site-packages (from -r requirements.txt (line 7)) (8.0.1)\n",
      "Requirement already satisfied: Sphinx in c:\\users\\effen\\mambaforge\\envs\\clf\\lib\\site-packages (from -r requirements.txt (line 8)) (4.2.0)\n",
      "Requirement already satisfied: coverage in c:\\users\\effen\\mambaforge\\envs\\clf\\lib\\site-packages (from -r requirements.txt (line 9)) (5.5)\n",
      "Requirement already satisfied: flake8 in c:\\users\\effen\\mambaforge\\envs\\clf\\lib\\site-packages (from -r requirements.txt (line 10)) (3.9.2)\n",
      "Requirement already satisfied: pytest in c:\\users\\effen\\mambaforge\\envs\\clf\\lib\\site-packages (from -r requirements.txt (line 11)) (6.2.5)\n",
      "Requirement already satisfied: python-dotenv>=0.5.1 in c:\\users\\effen\\mambaforge\\envs\\clf\\lib\\site-packages (from -r requirements.txt (line 12)) (0.19.0)\n",
      "Requirement already satisfied: ipykernel in c:\\users\\effen\\mambaforge\\envs\\clf\\lib\\site-packages (from -r requirements.txt (line 13)) (6.4.1)\n",
      "Requirement already satisfied: ipython in c:\\users\\effen\\mambaforge\\envs\\clf\\lib\\site-packages (from -r requirements.txt (line 14)) (7.28.0)\n",
      "Requirement already satisfied: ipywidgets in c:\\users\\effen\\mambaforge\\envs\\clf\\lib\\site-packages (from -r requirements.txt (line 15)) (7.6.5)\n",
      "Requirement already satisfied: jupyter in c:\\users\\effen\\mambaforge\\envs\\clf\\lib\\site-packages (from -r requirements.txt (line 16)) (1.0.0)\n",
      "Requirement already satisfied: jupyterlab in c:\\users\\effen\\mambaforge\\envs\\clf\\lib\\site-packages (from -r requirements.txt (line 17)) (3.1.14)\n",
      "Requirement already satisfied: matplotlib in c:\\users\\effen\\mambaforge\\envs\\clf\\lib\\site-packages (from -r requirements.txt (line 18)) (3.4.3)\n",
      "Requirement already satisfied: numpy in c:\\users\\effen\\mambaforge\\envs\\clf\\lib\\site-packages (from -r requirements.txt (line 19)) (1.21.2)\n",
      "Requirement already satisfied: pandas in c:\\users\\effen\\mambaforge\\envs\\clf\\lib\\site-packages (from -r requirements.txt (line 20)) (1.3.3)\n",
      "Requirement already satisfied: plotly in c:\\users\\effen\\mambaforge\\envs\\clf\\lib\\site-packages (from -r requirements.txt (line 21)) (5.3.1)\n",
      "Requirement already satisfied: plotnine in c:\\users\\effen\\mambaforge\\envs\\clf\\lib\\site-packages (from -r requirements.txt (line 22)) (0.8.0)\n",
      "Requirement already satisfied: scikit-learn in c:\\users\\effen\\mambaforge\\envs\\clf\\lib\\site-packages (from -r requirements.txt (line 23)) (1.0)\n",
      "Requirement already satisfied: scipy in c:\\users\\effen\\mambaforge\\envs\\clf\\lib\\site-packages (from -r requirements.txt (line 24)) (1.7.1)\n",
      "Requirement already satisfied: statsmodels in c:\\users\\effen\\mambaforge\\envs\\clf\\lib\\site-packages (from -r requirements.txt (line 25)) (0.12.2)\n",
      "Requirement already satisfied: doit in c:\\users\\effen\\mambaforge\\envs\\clf\\lib\\site-packages (from -r requirements.txt (line 26)) (0.33.1)\n",
      "Requirement already satisfied: colorama in c:\\users\\effen\\mambaforge\\envs\\clf\\lib\\site-packages (from tqdm->-r requirements.txt (line 5)) (0.4.4)\n",
      "Requirement already satisfied: certifi in c:\\users\\effen\\mambaforge\\envs\\clf\\lib\\site-packages (from kaggle->-r requirements.txt (line 6)) (2021.5.30)\n",
      "Requirement already satisfied: six>=1.10 in c:\\users\\effen\\mambaforge\\envs\\clf\\lib\\site-packages (from kaggle->-r requirements.txt (line 6)) (1.16.0)\n",
      "Requirement already satisfied: python-dateutil in c:\\users\\effen\\mambaforge\\envs\\clf\\lib\\site-packages (from kaggle->-r requirements.txt (line 6)) (2.8.2)\n",
      "Requirement already satisfied: urllib3 in c:\\users\\effen\\mambaforge\\envs\\clf\\lib\\site-packages (from kaggle->-r requirements.txt (line 6)) (1.24.3)\n",
      "Requirement already satisfied: requests in c:\\users\\effen\\mambaforge\\envs\\clf\\lib\\site-packages (from kaggle->-r requirements.txt (line 6)) (2.26.0)\n",
      "Requirement already satisfied: python-slugify in c:\\users\\effen\\mambaforge\\envs\\clf\\lib\\site-packages (from kaggle->-r requirements.txt (line 6)) (5.0.2)\n",
      "Requirement already satisfied: sphinxcontrib-serializinghtml>=1.1.5 in c:\\users\\effen\\mambaforge\\envs\\clf\\lib\\site-packages (from Sphinx->-r requirements.txt (line 8)) (1.1.5)\n",
      "Requirement already satisfied: docutils<0.18,>=0.14 in c:\\users\\effen\\mambaforge\\envs\\clf\\lib\\site-packages (from Sphinx->-r requirements.txt (line 8)) (0.17.1)\n",
      "Requirement already satisfied: imagesize in c:\\users\\effen\\mambaforge\\envs\\clf\\lib\\site-packages (from Sphinx->-r requirements.txt (line 8)) (1.2.0)\n",
      "Requirement already satisfied: setuptools in c:\\users\\effen\\mambaforge\\envs\\clf\\lib\\site-packages (from Sphinx->-r requirements.txt (line 8)) (58.0.4)\n",
      "Requirement already satisfied: sphinxcontrib-jsmath in c:\\users\\effen\\mambaforge\\envs\\clf\\lib\\site-packages (from Sphinx->-r requirements.txt (line 8)) (1.0.1)\n",
      "Requirement already satisfied: babel>=1.3 in c:\\users\\effen\\mambaforge\\envs\\clf\\lib\\site-packages (from Sphinx->-r requirements.txt (line 8)) (2.9.1)\n",
      "Requirement already satisfied: packaging in c:\\users\\effen\\mambaforge\\envs\\clf\\lib\\site-packages (from Sphinx->-r requirements.txt (line 8)) (21.0)\n",
      "Requirement already satisfied: Jinja2>=2.3 in c:\\users\\effen\\mambaforge\\envs\\clf\\lib\\site-packages (from Sphinx->-r requirements.txt (line 8)) (2.11.3)\n",
      "Requirement already satisfied: snowballstemmer>=1.1 in c:\\users\\effen\\mambaforge\\envs\\clf\\lib\\site-packages (from Sphinx->-r requirements.txt (line 8)) (2.1.0)\n",
      "Requirement already satisfied: alabaster<0.8,>=0.7 in c:\\users\\effen\\mambaforge\\envs\\clf\\lib\\site-packages (from Sphinx->-r requirements.txt (line 8)) (0.7.12)\n",
      "Requirement already satisfied: sphinxcontrib-htmlhelp>=2.0.0 in c:\\users\\effen\\mambaforge\\envs\\clf\\lib\\site-packages (from Sphinx->-r requirements.txt (line 8)) (2.0.0)\n",
      "Requirement already satisfied: sphinxcontrib-applehelp in c:\\users\\effen\\mambaforge\\envs\\clf\\lib\\site-packages (from Sphinx->-r requirements.txt (line 8)) (1.0.2)\n",
      "Requirement already satisfied: sphinxcontrib-qthelp in c:\\users\\effen\\mambaforge\\envs\\clf\\lib\\site-packages (from Sphinx->-r requirements.txt (line 8)) (1.0.3)\n",
      "Requirement already satisfied: Pygments>=2.0 in c:\\users\\effen\\mambaforge\\envs\\clf\\lib\\site-packages (from Sphinx->-r requirements.txt (line 8)) (2.10.0)\n",
      "Requirement already satisfied: sphinxcontrib-devhelp in c:\\users\\effen\\mambaforge\\envs\\clf\\lib\\site-packages (from Sphinx->-r requirements.txt (line 8)) (1.0.2)\n",
      "Requirement already satisfied: pyflakes<2.4.0,>=2.3.0 in c:\\users\\effen\\mambaforge\\envs\\clf\\lib\\site-packages (from flake8->-r requirements.txt (line 10)) (2.3.1)\n",
      "Requirement already satisfied: mccabe<0.7.0,>=0.6.0 in c:\\users\\effen\\mambaforge\\envs\\clf\\lib\\site-packages (from flake8->-r requirements.txt (line 10)) (0.6.1)\n",
      "Requirement already satisfied: pycodestyle<2.8.0,>=2.7.0 in c:\\users\\effen\\mambaforge\\envs\\clf\\lib\\site-packages (from flake8->-r requirements.txt (line 10)) (2.7.0)\n",
      "Requirement already satisfied: attrs>=19.2.0 in c:\\users\\effen\\mambaforge\\envs\\clf\\lib\\site-packages (from pytest->-r requirements.txt (line 11)) (21.2.0)\n",
      "Requirement already satisfied: iniconfig in c:\\users\\effen\\mambaforge\\envs\\clf\\lib\\site-packages (from pytest->-r requirements.txt (line 11)) (1.1.1)\n",
      "Requirement already satisfied: pluggy<2.0,>=0.12 in c:\\users\\effen\\mambaforge\\envs\\clf\\lib\\site-packages (from pytest->-r requirements.txt (line 11)) (1.0.0)\n",
      "Requirement already satisfied: py>=1.8.2 in c:\\users\\effen\\mambaforge\\envs\\clf\\lib\\site-packages (from pytest->-r requirements.txt (line 11)) (1.10.0)\n",
      "Requirement already satisfied: toml in c:\\users\\effen\\mambaforge\\envs\\clf\\lib\\site-packages (from pytest->-r requirements.txt (line 11)) (0.10.2)\n",
      "Requirement already satisfied: atomicwrites>=1.0 in c:\\users\\effen\\mambaforge\\envs\\clf\\lib\\site-packages (from pytest->-r requirements.txt (line 11)) (1.4.0)\n",
      "Requirement already satisfied: debugpy<2.0,>=1.0.0 in c:\\users\\effen\\mambaforge\\envs\\clf\\lib\\site-packages (from ipykernel->-r requirements.txt (line 13)) (1.4.1)\n",
      "Requirement already satisfied: tornado<7.0,>=4.2 in c:\\users\\effen\\mambaforge\\envs\\clf\\lib\\site-packages (from ipykernel->-r requirements.txt (line 13)) (6.1)\n",
      "Requirement already satisfied: ipython-genutils in c:\\users\\effen\\mambaforge\\envs\\clf\\lib\\site-packages (from ipykernel->-r requirements.txt (line 13)) (0.2.0)\n",
      "Requirement already satisfied: matplotlib-inline<0.2.0,>=0.1.0 in c:\\users\\effen\\mambaforge\\envs\\clf\\lib\\site-packages (from ipykernel->-r requirements.txt (line 13)) (0.1.3)\n",
      "Requirement already satisfied: jupyter-client<8.0 in c:\\users\\effen\\mambaforge\\envs\\clf\\lib\\site-packages (from ipykernel->-r requirements.txt (line 13)) (7.0.5)\n",
      "Requirement already satisfied: traitlets<6.0,>=4.1.0 in c:\\users\\effen\\mambaforge\\envs\\clf\\lib\\site-packages (from ipykernel->-r requirements.txt (line 13)) (5.1.0)\n",
      "Requirement already satisfied: pickleshare in c:\\users\\effen\\mambaforge\\envs\\clf\\lib\\site-packages (from ipython->-r requirements.txt (line 14)) (0.7.5)\n",
      "Requirement already satisfied: jedi>=0.16 in c:\\users\\effen\\mambaforge\\envs\\clf\\lib\\site-packages (from ipython->-r requirements.txt (line 14)) (0.18.0)\n",
      "Requirement already satisfied: backcall in c:\\users\\effen\\mambaforge\\envs\\clf\\lib\\site-packages (from ipython->-r requirements.txt (line 14)) (0.2.0)\n",
      "Requirement already satisfied: decorator in c:\\users\\effen\\mambaforge\\envs\\clf\\lib\\site-packages (from ipython->-r requirements.txt (line 14)) (5.1.0)\n",
      "Requirement already satisfied: prompt-toolkit!=3.0.0,!=3.0.1,<3.1.0,>=2.0.0 in c:\\users\\effen\\mambaforge\\envs\\clf\\lib\\site-packages (from ipython->-r requirements.txt (line 14)) (3.0.20)\n",
      "Requirement already satisfied: nbformat>=4.2.0 in c:\\users\\effen\\mambaforge\\envs\\clf\\lib\\site-packages (from ipywidgets->-r requirements.txt (line 15)) (5.1.3)\n",
      "Requirement already satisfied: jupyterlab-widgets>=1.0.0 in c:\\users\\effen\\mambaforge\\envs\\clf\\lib\\site-packages (from ipywidgets->-r requirements.txt (line 15)) (1.0.2)\n",
      "Requirement already satisfied: widgetsnbextension~=3.5.0 in c:\\users\\effen\\mambaforge\\envs\\clf\\lib\\site-packages (from ipywidgets->-r requirements.txt (line 15)) (3.5.1)\n",
      "Requirement already satisfied: notebook in c:\\users\\effen\\mambaforge\\envs\\clf\\lib\\site-packages (from jupyter->-r requirements.txt (line 16)) (6.4.4)\n",
      "Requirement already satisfied: jupyter-console in c:\\users\\effen\\mambaforge\\envs\\clf\\lib\\site-packages (from jupyter->-r requirements.txt (line 16)) (6.4.0)\n",
      "Requirement already satisfied: qtconsole in c:\\users\\effen\\mambaforge\\envs\\clf\\lib\\site-packages (from jupyter->-r requirements.txt (line 16)) (5.1.1)\n",
      "Requirement already satisfied: nbconvert in c:\\users\\effen\\mambaforge\\envs\\clf\\lib\\site-packages (from jupyter->-r requirements.txt (line 16)) (6.2.0)\n",
      "Requirement already satisfied: jupyterlab-server~=2.3 in c:\\users\\effen\\mambaforge\\envs\\clf\\lib\\site-packages (from jupyterlab->-r requirements.txt (line 17)) (2.8.2)\n",
      "Requirement already satisfied: nbclassic~=0.2 in c:\\users\\effen\\mambaforge\\envs\\clf\\lib\\site-packages (from jupyterlab->-r requirements.txt (line 17)) (0.3.2)\n",
      "Requirement already satisfied: jupyter-core in c:\\users\\effen\\mambaforge\\envs\\clf\\lib\\site-packages (from jupyterlab->-r requirements.txt (line 17)) (4.8.1)\n",
      "Requirement already satisfied: jupyter-server~=1.4 in c:\\users\\effen\\mambaforge\\envs\\clf\\lib\\site-packages (from jupyterlab->-r requirements.txt (line 17)) (1.11.0)\n",
      "Requirement already satisfied: pillow>=6.2.0 in c:\\users\\effen\\mambaforge\\envs\\clf\\lib\\site-packages (from matplotlib->-r requirements.txt (line 18)) (8.3.2)\n",
      "Requirement already satisfied: cycler>=0.10 in c:\\users\\effen\\mambaforge\\envs\\clf\\lib\\site-packages (from matplotlib->-r requirements.txt (line 18)) (0.10.0)\n",
      "Requirement already satisfied: pyparsing>=2.2.1 in c:\\users\\effen\\mambaforge\\envs\\clf\\lib\\site-packages (from matplotlib->-r requirements.txt (line 18)) (2.4.7)\n",
      "Requirement already satisfied: kiwisolver>=1.0.1 in c:\\users\\effen\\mambaforge\\envs\\clf\\lib\\site-packages (from matplotlib->-r requirements.txt (line 18)) (1.3.2)\n",
      "Requirement already satisfied: pytz>=2017.3 in c:\\users\\effen\\mambaforge\\envs\\clf\\lib\\site-packages (from pandas->-r requirements.txt (line 20)) (2021.1)\n",
      "Requirement already satisfied: tenacity>=6.2.0 in c:\\users\\effen\\mambaforge\\envs\\clf\\lib\\site-packages (from plotly->-r requirements.txt (line 21)) (8.0.1)\n",
      "Requirement already satisfied: patsy>=0.5.1 in c:\\users\\effen\\mambaforge\\envs\\clf\\lib\\site-packages (from plotnine->-r requirements.txt (line 22)) (0.5.2)\n",
      "Requirement already satisfied: descartes>=1.1.0 in c:\\users\\effen\\mambaforge\\envs\\clf\\lib\\site-packages (from plotnine->-r requirements.txt (line 22)) (1.1.0)\n",
      "Requirement already satisfied: mizani>=0.7.3 in c:\\users\\effen\\mambaforge\\envs\\clf\\lib\\site-packages (from plotnine->-r requirements.txt (line 22)) (0.7.3)\n",
      "Requirement already satisfied: joblib>=0.11 in c:\\users\\effen\\mambaforge\\envs\\clf\\lib\\site-packages (from scikit-learn->-r requirements.txt (line 23)) (1.0.1)\n",
      "Requirement already satisfied: threadpoolctl>=2.0.0 in c:\\users\\effen\\mambaforge\\envs\\clf\\lib\\site-packages (from scikit-learn->-r requirements.txt (line 23)) (2.2.0)\n",
      "Requirement already satisfied: cloudpickle in c:\\users\\effen\\mambaforge\\envs\\clf\\lib\\site-packages (from doit->-r requirements.txt (line 26)) (2.0.0)\n",
      "Requirement already satisfied: parso<0.9.0,>=0.8.0 in c:\\users\\effen\\mambaforge\\envs\\clf\\lib\\site-packages (from jedi>=0.16->ipython->-r requirements.txt (line 14)) (0.8.2)\n",
      "Requirement already satisfied: MarkupSafe>=0.23 in c:\\users\\effen\\mambaforge\\envs\\clf\\lib\\site-packages (from Jinja2>=2.3->Sphinx->-r requirements.txt (line 8)) (1.1.1)\n",
      "Requirement already satisfied: pyzmq>=13 in c:\\users\\effen\\mambaforge\\envs\\clf\\lib\\site-packages (from jupyter-client<8.0->ipykernel->-r requirements.txt (line 13)) (22.3.0)\n",
      "Requirement already satisfied: entrypoints in c:\\users\\effen\\mambaforge\\envs\\clf\\lib\\site-packages (from jupyter-client<8.0->ipykernel->-r requirements.txt (line 13)) (0.3)\n",
      "Requirement already satisfied: nest-asyncio>=1.5 in c:\\users\\effen\\mambaforge\\envs\\clf\\lib\\site-packages (from jupyter-client<8.0->ipykernel->-r requirements.txt (line 13)) (1.5.1)\n",
      "Requirement already satisfied: pywin32>=1.0 in c:\\users\\effen\\mambaforge\\envs\\clf\\lib\\site-packages (from jupyter-core->jupyterlab->-r requirements.txt (line 17)) (301)\n",
      "Requirement already satisfied: requests-unixsocket in c:\\users\\effen\\mambaforge\\envs\\clf\\lib\\site-packages (from jupyter-server~=1.4->jupyterlab->-r requirements.txt (line 17)) (0.2.0)\n",
      "Requirement already satisfied: anyio<4,>=3.1.0 in c:\\users\\effen\\mambaforge\\envs\\clf\\lib\\site-packages (from jupyter-server~=1.4->jupyterlab->-r requirements.txt (line 17)) (3.3.2)\n",
      "Requirement already satisfied: terminado>=0.8.3 in c:\\users\\effen\\mambaforge\\envs\\clf\\lib\\site-packages (from jupyter-server~=1.4->jupyterlab->-r requirements.txt (line 17)) (0.12.1)\n",
      "Requirement already satisfied: prometheus-client in c:\\users\\effen\\mambaforge\\envs\\clf\\lib\\site-packages (from jupyter-server~=1.4->jupyterlab->-r requirements.txt (line 17)) (0.11.0)\n",
      "Requirement already satisfied: argon2-cffi in c:\\users\\effen\\mambaforge\\envs\\clf\\lib\\site-packages (from jupyter-server~=1.4->jupyterlab->-r requirements.txt (line 17)) (20.1.0)\n",
      "Requirement already satisfied: websocket-client in c:\\users\\effen\\mambaforge\\envs\\clf\\lib\\site-packages (from jupyter-server~=1.4->jupyterlab->-r requirements.txt (line 17)) (0.57.0)\n",
      "Requirement already satisfied: Send2Trash in c:\\users\\effen\\mambaforge\\envs\\clf\\lib\\site-packages (from jupyter-server~=1.4->jupyterlab->-r requirements.txt (line 17)) (1.8.0)\n",
      "Requirement already satisfied: idna>=2.8 in c:\\users\\effen\\mambaforge\\envs\\clf\\lib\\site-packages (from anyio<4,>=3.1.0->jupyter-server~=1.4->jupyterlab->-r requirements.txt (line 17)) (3.1)\n",
      "Requirement already satisfied: sniffio>=1.1 in c:\\users\\effen\\mambaforge\\envs\\clf\\lib\\site-packages (from anyio<4,>=3.1.0->jupyter-server~=1.4->jupyterlab->-r requirements.txt (line 17)) (1.2.0)\n",
      "Requirement already satisfied: json5 in c:\\users\\effen\\mambaforge\\envs\\clf\\lib\\site-packages (from jupyterlab-server~=2.3->jupyterlab->-r requirements.txt (line 17)) (0.9.5)\n",
      "Requirement already satisfied: jsonschema>=3.0.1 in c:\\users\\effen\\mambaforge\\envs\\clf\\lib\\site-packages (from jupyterlab-server~=2.3->jupyterlab->-r requirements.txt (line 17)) (3.2.0)\n",
      "Requirement already satisfied: pyrsistent>=0.14.0 in c:\\users\\effen\\mambaforge\\envs\\clf\\lib\\site-packages (from jsonschema>=3.0.1->jupyterlab-server~=2.3->jupyterlab->-r requirements.txt (line 17)) (0.17.3)\n",
      "Requirement already satisfied: palettable in c:\\users\\effen\\mambaforge\\envs\\clf\\lib\\site-packages (from mizani>=0.7.3->plotnine->-r requirements.txt (line 22)) (3.3.0)\n",
      "Requirement already satisfied: wcwidth in c:\\users\\effen\\mambaforge\\envs\\clf\\lib\\site-packages (from prompt-toolkit!=3.0.0,!=3.0.1,<3.1.0,>=2.0.0->ipython->-r requirements.txt (line 14)) (0.2.5)\n",
      "Requirement already satisfied: charset-normalizer~=2.0.0 in c:\\users\\effen\\mambaforge\\envs\\clf\\lib\\site-packages (from requests->kaggle->-r requirements.txt (line 6)) (2.0.0)\n",
      "Requirement already satisfied: pywinpty>=1.1.0 in c:\\users\\effen\\mambaforge\\envs\\clf\\lib\\site-packages (from terminado>=0.8.3->jupyter-server~=1.4->jupyterlab->-r requirements.txt (line 17)) (1.1.4)\n",
      "Requirement already satisfied: cffi>=1.0.0 in c:\\users\\effen\\mambaforge\\envs\\clf\\lib\\site-packages (from argon2-cffi->jupyter-server~=1.4->jupyterlab->-r requirements.txt (line 17)) (1.14.6)\n",
      "Requirement already satisfied: pycparser in c:\\users\\effen\\mambaforge\\envs\\clf\\lib\\site-packages (from cffi>=1.0.0->argon2-cffi->jupyter-server~=1.4->jupyterlab->-r requirements.txt (line 17)) (2.20)\n",
      "Requirement already satisfied: defusedxml in c:\\users\\effen\\mambaforge\\envs\\clf\\lib\\site-packages (from nbconvert->jupyter->-r requirements.txt (line 16)) (0.7.1)\n",
      "Requirement already satisfied: jupyterlab-pygments in c:\\users\\effen\\mambaforge\\envs\\clf\\lib\\site-packages (from nbconvert->jupyter->-r requirements.txt (line 16)) (0.1.2)\n",
      "Requirement already satisfied: nbclient<0.6.0,>=0.5.0 in c:\\users\\effen\\mambaforge\\envs\\clf\\lib\\site-packages (from nbconvert->jupyter->-r requirements.txt (line 16)) (0.5.4)\n",
      "Requirement already satisfied: testpath in c:\\users\\effen\\mambaforge\\envs\\clf\\lib\\site-packages (from nbconvert->jupyter->-r requirements.txt (line 16)) (0.5.0)\n",
      "Requirement already satisfied: mistune<2,>=0.8.1 in c:\\users\\effen\\mambaforge\\envs\\clf\\lib\\site-packages (from nbconvert->jupyter->-r requirements.txt (line 16)) (0.8.4)\n",
      "Requirement already satisfied: pandocfilters>=1.4.1 in c:\\users\\effen\\mambaforge\\envs\\clf\\lib\\site-packages (from nbconvert->jupyter->-r requirements.txt (line 16)) (1.5.0)\n",
      "Requirement already satisfied: bleach in c:\\users\\effen\\mambaforge\\envs\\clf\\lib\\site-packages (from nbconvert->jupyter->-r requirements.txt (line 16)) (4.1.0)\n",
      "Requirement already satisfied: webencodings in c:\\users\\effen\\mambaforge\\envs\\clf\\lib\\site-packages (from bleach->nbconvert->jupyter->-r requirements.txt (line 16)) (0.5.1)\n",
      "Requirement already satisfied: text-unidecode>=1.3 in c:\\users\\effen\\mambaforge\\envs\\clf\\lib\\site-packages (from python-slugify->kaggle->-r requirements.txt (line 6)) (1.3)\n",
      "Requirement already satisfied: qtpy in c:\\users\\effen\\mambaforge\\envs\\clf\\lib\\site-packages (from qtconsole->jupyter->-r requirements.txt (line 16)) (1.11.2)\n",
      "Installing collected packages: src\n",
      "  Attempting uninstall: src\n",
      "    Found existing installation: src 0.1.0\n",
      "    Uninstalling src-0.1.0:\n",
      "      Successfully uninstalled src-0.1.0\n",
      "  Running setup.py develop for src\n",
      "Successfully installed src-0.1.0\n"
     ]
    }
   ],
   "source": [
    "# Install dependencies.\n",
    "!{sys.executable} -m pip install -r requirements.txt"
   ]
  },
  {
   "cell_type": "code",
   "execution_count": 5,
   "metadata": {},
   "outputs": [
    {
     "name": "stdout",
     "output_type": "stream",
     "text": [
      "clean_dataset      Clean the raw dataset (.csv) and place in the interim folder.\n",
      "download_dataset   Download the dataset from Kaggle.\n",
      "unpack_dataset     Unpack the raw dataset (.zip) as the (.csv) file.\n"
     ]
    }
   ],
   "source": [
    "# List the possible tasks.\n",
    "!doit -f \"dodo.py\" list"
   ]
  },
  {
   "cell_type": "code",
   "execution_count": 6,
   "metadata": {},
   "outputs": [
    {
     "name": "stdout",
     "output_type": "stream",
     "text": [
      "clean_dataset - removing file 'data/interim/ecommerce_data-cleaned-0.1.csv'\n",
      "unpack_dataset - removing file 'data/raw/marketing_sample_for_walmart_com-ecommerce__20191201_20191231__30k_data.csv'\n",
      "download_dataset - removing file 'data/raw/walmart-product-data-2019.zip'\n"
     ]
    }
   ],
   "source": [
    "!doit -f \"dodo.py\" clean"
   ]
  },
  {
   "cell_type": "code",
   "execution_count": 7,
   "metadata": {},
   "outputs": [
    {
     "name": "stdout",
     "output_type": "stream",
     "text": [
      ".  download_dataset"
     ]
    },
    {
     "name": "stderr",
     "output_type": "stream",
     "text": [
      "2021-10-01 20:27:31,251 - __main__ - INFO - Loading envvars...\n",
      "\n",
      "2021-10-01 20:27:31,259 - __main__ - INFO - Done loading envvars.\n",
      "\n",
      "2021-10-01 20:27:31,259 - __main__ - INFO - Authenticating to the Kaggle API...\n",
      "\n",
      "2021-10-01 20:27:31,262 - __main__ - INFO - Done authenticating to the Kaggle API.\n",
      "\n",
      "2021-10-01 20:27:31,263 - __main__ - INFO - Downloading dataset...\n",
      "\n",
      "\n",
      "  0%|          | 0.00/13.6M [00:00<?, ?B/s]\n",
      " 22%|##1       | 3.00M/13.6M [00:00<00:00, 25.0MB/s]\n",
      " 51%|#####1    | 7.00M/13.6M [00:00<00:00, 33.7MB/s]\n",
      " 81%|########  | 11.0M/13.6M [00:00<00:00, 36.6MB/s]\n",
      "100%|##########| 13.6M/13.6M [00:00<00:00, 36.8MB/s]\n",
      "\n",
      "2021-10-01 20:27:32,276 - __main__ - INFO - Looking for dataset at \"walmart-product-data-2019.zip\" ...\n",
      "\n",
      "2021-10-01 20:27:32,276 - __main__ - INFO - Found dataset.\n",
      "\n",
      "2021-10-01 20:27:32,276 - __main__ - INFO - Moving dataset into output directory \"data\\raw\\walmart-product-data-2019.zip\" ...\n",
      "\n",
      "2021-10-01 20:27:32,276 - __main__ - INFO - Moved dataset.\n",
      "\n",
      "2021-10-01 20:27:32,463 - __main__ - INFO - Loading envvars...\n",
      "\n",
      "2021-10-01 20:27:32,465 - __main__ - INFO - Done loading envvars.\n",
      "\n",
      "2021-10-01 20:27:32,465 - __main__ - INFO - Dataset exists.\n",
      "\n",
      "2021-10-01 20:27:32,465 - __main__ - INFO - Extracting \"home/sdf/marketing_sample_for_walmart_com-ecommerce__20191201_20191231__30k_data.csv\" from \"data/raw/walmart-product-data-2019.zip\" to \"data/raw\"\n",
      "\n",
      "2021-10-01 20:27:32,738 - __main__ - INFO - Done extracting \"home/sdf/marketing_sample_for_walmart_com-ecommerce__20191201_20191231__30k_data.csv\"\n",
      "\n",
      "2021-10-01 20:27:32,738 - __main__ - INFO - Moving extracted file to \"data/raw\"\n",
      "\n",
      "2021-10-01 20:27:32,739 - __main__ - INFO - Moved extracted file\n",
      "\n",
      "2021-10-01 20:27:33,953 - __main__ - INFO - Reading data from data/raw/marketing_sample_for_walmart_com-ecommerce__20191201_20191231__30k_data.csv\n",
      "\n",
      "2021-10-01 20:27:34,683 - __main__ - INFO - There are 396 records that are listed as free.\n",
      "\n",
      "2021-10-01 20:27:34,683 - __main__ - INFO - There are 29604 records that have a price > $0.00\n",
      "\n",
      "2021-10-01 20:27:34,683 - __main__ - INFO - Shape of filtered dataframe: (29604, 7)\n",
      "\n",
      "2021-10-01 20:27:34,687 - __main__ - INFO - Saving file to \"data/interim/ecommerce_data-cleaned-0.1.csv\".\n"
     ]
    },
    {
     "name": "stdout",
     "output_type": "stream",
     "text": [
      "\n",
      ".  unpack_dataset\n",
      ".  clean_dataset\n"
     ]
    },
    {
     "name": "stderr",
     "output_type": "stream",
     "text": [
      "\n",
      "2021-10-01 20:27:35,638 - __main__ - INFO - File saved.\n",
      "\n"
     ]
    }
   ],
   "source": [
    "!doit -f \"dodo.py\" run"
   ]
  },
  {
   "cell_type": "code",
   "execution_count": 8,
   "metadata": {},
   "outputs": [
    {
     "name": "stdout",
     "output_type": "stream",
     "text": [
      "# dodo.py\n",
      "#\n",
      "# Tasks in this file are executed by the doit cli.\n",
      "import sys\n",
      "\n",
      "DOIT_CONFIG = { 'action_string_formatting': 'both' }\n",
      "EXECUTABLE = sys.executable\n",
      "\n",
      "def task_download_dataset():\n",
      "    \"\"\"\n",
      "    Download the dataset from Kaggle.\n",
      "    \"\"\"\n",
      "    return {\n",
      "        'targets': [ 'data/raw/walmart-product-data-2019.zip' ],\n",
      "        'actions': [ EXECUTABLE + ' src/data/download_dataset.py {targets}' ],\n",
      "        'clean': True\n",
      "    }\n",
      "\n",
      "def task_unpack_dataset():\n",
      "    \"\"\"\n",
      "    Unpack the raw dataset (.zip) as the (.csv) file.\n",
      "    \"\"\"\n",
      "    return {\n",
      "        'file_dep': [ 'data/raw/walmart-product-data-2019.zip' ],\n",
      "        'targets': [ 'data/raw/marketing_sample_for_walmart_com-ecommerce__20191201_20191231__30k_data.csv' ],\n",
      "        'actions': [ EXECUTABLE + ' src/data/make_dataset.py {dependencies} data/raw' ],\n",
      "        'clean': True\n",
      "    }\n",
      "    \n",
      "def task_clean_dataset():\n",
      "    \"\"\"\n",
      "    Clean the raw dataset (.csv) and place in the interim folder.\n",
      "    \"\"\"\n",
      "    return {\n",
      "        'file_dep': [ 'data/raw/marketing_sample_for_walmart_com-ecommerce__20191201_20191231__30k_data.csv' ],\n",
      "        'targets': [ 'data/interim/ecommerce_data-cleaned-0.1.csv' ],\n",
      "        'actions': [ EXECUTABLE + ' src/data/clean_dataset.py {dependencies} {targets}' ],\n",
      "        'clean': True\n",
      "    }\n",
      "\n",
      "if __name__ == '__main__':\n",
      "    import doit\n",
      "    doit.run(globals())\n"
     ]
    }
   ],
   "source": [
    "# Show our current tasks.\n",
    "with open(\"dodo.py\") as f: # The with keyword automatically closes the file when you are done\n",
    "    print(f.read())"
   ]
  },
  {
   "cell_type": "code",
   "execution_count": 9,
   "metadata": {},
   "outputs": [
    {
     "name": "stdout",
     "output_type": "stream",
     "text": [
      " Volume in drive C has no label.\n",
      " Volume Serial Number is F69E-1392\n",
      "\n",
      " Directory of C:\\Users\\effen\\OneDrive\\Documents\\RIT\\ISTE 780\\Projects\\price-clf\\data\\raw\n",
      "\n",
      "10/01/2021  08:27 PM    <DIR>          .\n",
      "10/01/2021  08:27 PM    <DIR>          ..\n",
      "10/01/2021  12:52 AM                 0 .gitkeep\n",
      "10/01/2021  08:27 PM        45,653,183 marketing_sample_for_walmart_com-ecommerce__20191201_20191231__30k_data.csv\n",
      "10/01/2021  08:27 PM        14,308,028 walmart-product-data-2019.zip\n",
      "               3 File(s)     59,961,211 bytes\n",
      "               2 Dir(s)  66,125,627,392 bytes free\n"
     ]
    }
   ],
   "source": [
    "%ls \"data/raw/\"\n",
    "# Displays the files in the data/raw folder."
   ]
  }
 ],
 "metadata": {
  "interpreter": {
   "hash": "5b946e3ad701e39b274e0926621a4c5b53e2fa16d17112201a160d3918c4e637"
  },
  "kernelspec": {
   "display_name": "Python 3 (ipykernel)",
   "language": "python",
   "name": "python3"
  },
  "language_info": {
   "codemirror_mode": {
    "name": "ipython",
    "version": 3
   },
   "file_extension": ".py",
   "mimetype": "text/x-python",
   "name": "python",
   "nbconvert_exporter": "python",
   "pygments_lexer": "ipython3",
   "version": "3.9.7"
  }
 },
 "nbformat": 4,
 "nbformat_minor": 4
}
