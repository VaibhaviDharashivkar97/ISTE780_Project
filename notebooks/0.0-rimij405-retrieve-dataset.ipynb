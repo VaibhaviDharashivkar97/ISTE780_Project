{
 "cells": [
  {
   "cell_type": "markdown",
   "metadata": {},
   "source": [
    "# 0.0 - Retrieve Dataset\n",
    "\n",
    "**Actions**: Before we can begin analyzing the data, we need to retrieve it. Luckily this is largely handled by our automation build tool, the `doit` python package. \n",
    "\n",
    "After installing the dependencies, run `doit` in the project's root directory. It should execute the `download_dataset` and `unpack_dataset` tasks.\n",
    "\n",
    "**Dependencies**: This notebook has no dependencies and can be run at the start of the analysis process.\n",
    "\n",
    "**Targets**: This notebook outputs a `data/raw/marketing_sample_for_walmart_com-ecommerce__20191201_20191231__30k_data.csv` data file."
   ]
  },
  {
   "cell_type": "code",
   "execution_count": 1,
   "metadata": {},
   "outputs": [
    {
     "name": "stdout",
     "output_type": "stream",
     "text": [
      "download_dataset   Download the dataset from Kaggle.\n",
      "unpack_dataset     Unpack the raw dataset (.zip) as the (.csv) file.\n"
     ]
    }
   ],
   "source": [
    "!doit -f \"./../dodo.py\" list"
   ]
  },
  {
   "cell_type": "code",
   "execution_count": 2,
   "metadata": {},
   "outputs": [
    {
     "name": "stderr",
     "output_type": "stream",
     "text": [
      "2021-10-01 08:16:53,692 - __main__ - WARNING - Dataset already exists at specified location\n",
      "\n",
      "2021-10-01 08:16:53,841 - __main__ - INFO - Loading envvars...\n",
      "\n",
      "2021-10-01 08:16:53,857 - __main__ - INFO - Done loading envvars.\n",
      "\n",
      "2021-10-01 08:16:53,857 - __main__ - INFO - Dataset exists.\n",
      "\n",
      "2021-10-01 08:16:53,857 - __main__ - INFO - Extracting \"home/sdf/marketing_sample_for_walmart_com-ecommerce__20191201_20191231__30k_data.csv\" from \"data/raw/walmart-product-data-2019.zip\" to \"data/raw\"\n"
     ]
    },
    {
     "name": "stdout",
     "output_type": "stream",
     "text": [
      ".  download_dataset\n",
      ".  unpack_dataset\n"
     ]
    },
    {
     "name": "stderr",
     "output_type": "stream",
     "text": [
      "\n",
      "2021-10-01 08:16:54,122 - __main__ - INFO - Done extracting \"home/sdf/marketing_sample_for_walmart_com-ecommerce__20191201_20191231__30k_data.csv\"\n",
      "\n",
      "2021-10-01 08:16:54,122 - __main__ - INFO - Moving extracted file to \"data/raw\"\n",
      "\n",
      "2021-10-01 08:16:54,160 - __main__ - INFO - Moved extracted file\n",
      "\n"
     ]
    }
   ],
   "source": [
    "!doit -f \"./../dodo.py\" run"
   ]
  },
  {
   "cell_type": "code",
   "execution_count": 3,
   "metadata": {},
   "outputs": [
    {
     "name": "stdout",
     "output_type": "stream",
     "text": [
      "# dodo.py\n",
      "#\n",
      "# Tasks in this file are executed by the doit cli.\n",
      "\n",
      "DOIT_CONFIG = { 'action_string_formatting': 'both' }\n",
      "\n",
      "def task_download_dataset():\n",
      "    \"\"\"\n",
      "    Download the dataset from Kaggle.\n",
      "    \"\"\"\n",
      "    return {\n",
      "        'targets': [ 'data/raw/walmart-product-data-2019.zip' ],\n",
      "        'actions': [ 'python src/data/download_dataset.py {targets}' ],\n",
      "        'clean': True\n",
      "    }\n",
      "\n",
      "def task_unpack_dataset():\n",
      "    \"\"\"\n",
      "    Unpack the raw dataset (.zip) as the (.csv) file.\n",
      "    \"\"\"\n",
      "    return {\n",
      "        'file_dep': [ 'data/raw/walmart-product-data-2019.zip' ],\n",
      "        'targets': [ 'data/raw/home/sdf/marketing_sample_for_walmart_com-ecommerce__20191201_20191231__30k_data.csv' ],\n",
      "        'actions': [ 'python src/data/make_dataset.py {dependencies} data/raw' ],\n",
      "        'clean': True\n",
      "    }\n"
     ]
    }
   ],
   "source": [
    "# Show our current tasks.\n",
    "with open(\"./../dodo.py\") as f: # The with keyword automatically closes the file when you are done\n",
    "    print(f.read())"
   ]
  },
  {
   "cell_type": "code",
   "execution_count": 4,
   "metadata": {},
   "outputs": [
    {
     "name": "stdout",
     "output_type": "stream",
     "text": [
      " Volume in drive C has no label.\n",
      " Volume Serial Number is F69E-1392\n",
      "\n",
      " Directory of C:\\Users\\effen\\OneDrive\\Documents\\RIT\\ISTE 780\\Projects\\price-clf\\data\\raw\n",
      "\n",
      "10/01/2021  08:16 AM    <DIR>          .\n",
      "10/01/2021  08:16 AM    <DIR>          ..\n",
      "10/01/2021  12:52 AM                 0 .gitkeep\n",
      "10/01/2021  08:16 AM        45,653,183 marketing_sample_for_walmart_com-ecommerce__20191201_20191231__30k_data.csv\n",
      "10/01/2021  07:04 AM        14,308,028 walmart-product-data-2019.zip\n",
      "               3 File(s)     59,961,211 bytes\n",
      "               2 Dir(s)  70,425,075,712 bytes free\n"
     ]
    }
   ],
   "source": [
    "%ls \"./../data/raw/\"\n",
    "# Displays the files in the data/raw folder."
   ]
  }
 ],
 "metadata": {
  "interpreter": {
   "hash": "5b946e3ad701e39b274e0926621a4c5b53e2fa16d17112201a160d3918c4e637"
  },
  "kernelspec": {
   "display_name": "Python 3 (ipykernel)",
   "language": "python",
   "name": "python3"
  },
  "language_info": {
   "codemirror_mode": {
    "name": "ipython",
    "version": 3
   },
   "file_extension": ".py",
   "mimetype": "text/x-python",
   "name": "python",
   "nbconvert_exporter": "python",
   "pygments_lexer": "ipython3",
   "version": "3.9.7"
  }
 },
 "nbformat": 4,
 "nbformat_minor": 4
}
